{
 "cells": [
  {
   "cell_type": "markdown",
   "id": "fa8d30e1",
   "metadata": {},
   "source": [
    "## 1.0 Data Preparation"
   ]
  },
  {
   "cell_type": "markdown",
   "id": "cec2389e",
   "metadata": {},
   "source": [
    "### 1.1 Dependancies"
   ]
  },
  {
   "cell_type": "code",
   "execution_count": null,
   "id": "14dfc04d",
   "metadata": {},
   "outputs": [],
   "source": [
    "# !pip install pivottablejs\n",
    "# !pip install missingno\n",
    "# !pip install imblearn\n",
    "# !pip install pivottablejs"
   ]
  },
  {
   "cell_type": "code",
   "execution_count": null,
   "id": "1304be47",
   "metadata": {},
   "outputs": [],
   "source": [
    "import pandas as pd\n",
    "import numpy as np\n",
    "import matplotlib.pyplot as plt\n",
    "import seaborn as sns"
   ]
  },
  {
   "cell_type": "markdown",
   "id": "b0bea5a0",
   "metadata": {},
   "source": [
    "### 1.2 Reading the Dataset"
   ]
  },
  {
   "cell_type": "code",
   "execution_count": null,
   "id": "d8e4b58f",
   "metadata": {},
   "outputs": [],
   "source": [
    "weather = pd.read_csv('All_Year_Data.csv' , index_col = 'date')\n",
    "weather.head(5)"
   ]
  },
  {
   "cell_type": "code",
   "execution_count": null,
   "id": "1b3eb83c",
   "metadata": {
    "scrolled": true
   },
   "outputs": [],
   "source": [
    "weather.tail(5)"
   ]
  },
  {
   "cell_type": "markdown",
   "id": "29f05532",
   "metadata": {},
   "source": [
    "## 2.0 Data Preprocessing"
   ]
  },
  {
   "cell_type": "markdown",
   "id": "1dab5e25",
   "metadata": {},
   "source": [
    "### 2.1 Dataset Information"
   ]
  },
  {
   "cell_type": "code",
   "execution_count": null,
   "id": "531b8028",
   "metadata": {
    "scrolled": false
   },
   "outputs": [],
   "source": [
    "weather.info()"
   ]
  },
  {
   "cell_type": "code",
   "execution_count": null,
   "id": "ba1dfece",
   "metadata": {},
   "outputs": [],
   "source": [
    "weather.dtypes"
   ]
  },
  {
   "cell_type": "code",
   "execution_count": null,
   "id": "4b9f0dde",
   "metadata": {},
   "outputs": [],
   "source": [
    "weather.index"
   ]
  },
  {
   "cell_type": "code",
   "execution_count": null,
   "id": "cc81c3de",
   "metadata": {
    "scrolled": true
   },
   "outputs": [],
   "source": [
    "weather.index = pd.to_datetime(weather.index)\n",
    "weather.index"
   ]
  },
  {
   "cell_type": "markdown",
   "id": "a70b709c",
   "metadata": {},
   "source": [
    "### 2.2 Dataset Summary Statistics"
   ]
  },
  {
   "cell_type": "code",
   "execution_count": null,
   "id": "43461783",
   "metadata": {},
   "outputs": [],
   "source": [
    "weather.describe().style.background_gradient()"
   ]
  },
  {
   "cell_type": "markdown",
   "id": "d39322c0",
   "metadata": {},
   "source": [
    "### 2.3 Unique Values Counts in all Atributes"
   ]
  },
  {
   "cell_type": "code",
   "execution_count": null,
   "id": "746984f4",
   "metadata": {
    "scrolled": true
   },
   "outputs": [],
   "source": [
    "weather.nunique().sort_values(ascending = True)"
   ]
  },
  {
   "cell_type": "code",
   "execution_count": null,
   "id": "b298a3bf",
   "metadata": {},
   "outputs": [],
   "source": [
    "for col in weather.columns:\n",
    "    print(col, len(weather[col].unique()), weather[col].unique())"
   ]
  },
  {
   "cell_type": "markdown",
   "id": "13936d8c",
   "metadata": {},
   "source": [
    "### 2.4 Checking Missing Values"
   ]
  },
  {
   "cell_type": "code",
   "execution_count": null,
   "id": "21de10a3",
   "metadata": {},
   "outputs": [],
   "source": [
    "weather.isnull().sum()"
   ]
  },
  {
   "cell_type": "code",
   "execution_count": null,
   "id": "47a984fb",
   "metadata": {},
   "outputs": [],
   "source": [
    "pd.options.display.float_format = '{:,.2f}%'.format\n",
    "print((weather.isnull().sum()/len(weather))*100)\n",
    "pd.options.display.float_format = '{:,.2f}'.format"
   ]
  },
  {
   "cell_type": "code",
   "execution_count": null,
   "id": "596ccd42",
   "metadata": {},
   "outputs": [],
   "source": [
    "# weather.apply(pd.isnull).sum( )/weather.shape[0]"
   ]
  },
  {
   "cell_type": "markdown",
   "id": "e6c9c173",
   "metadata": {},
   "source": [
    "## 3.0 Data Visualization"
   ]
  },
  {
   "cell_type": "markdown",
   "id": "ab81cbf5",
   "metadata": {},
   "source": [
    "### 3.1 Plot for missing values"
   ]
  },
  {
   "cell_type": "code",
   "execution_count": null,
   "id": "b1cb4f19",
   "metadata": {},
   "outputs": [],
   "source": [
    "import missingno as msno\n",
    "msno.matrix(weather, labels = [weather.columns], figsize = (20,6), fontsize = 12)"
   ]
  },
  {
   "cell_type": "markdown",
   "id": "155b7616",
   "metadata": {},
   "source": [
    "### 3.2 Understanding the Distruction of the Data"
   ]
  },
  {
   "cell_type": "code",
   "execution_count": null,
   "id": "48664e6e",
   "metadata": {},
   "outputs": [],
   "source": [
    "plt.figure(figsize = (15,15))\n",
    "for i, col in enumerate(weather.select_dtypes(include = ['int','float']).columns):\n",
    "    plt.rcParams['axes.facecolor'] = 'white'\n",
    "    ax = plt.subplot(4,3, i+1)\n",
    "    sns.histplot(data = weather, x = col, ax = ax, color = 'green', kde = True)\n",
    "plt.suptitle('Data distribution for all the Columns in the data set', fontsize = 18)\n",
    "plt.tight_layout()"
   ]
  },
  {
   "cell_type": "markdown",
   "id": "69ec92ca",
   "metadata": {},
   "source": [
    "### 3.3 Box Plot"
   ]
  },
  {
   "cell_type": "code",
   "execution_count": null,
   "id": "a09a6f2a",
   "metadata": {},
   "outputs": [],
   "source": [
    "plt.figure(figsize = (15,15))\n",
    "for i, col in enumerate(weather.select_dtypes(include = ['int','float']).columns):\n",
    "    plt.rcParams['axes.facecolor'] = 'white'\n",
    "    ax = plt.subplot(4,3, i+1)\n",
    "    sns.boxplot(data = weather, x=col, ax=ax, color='green')\n",
    "plt.suptitle('Data distribution')\n",
    "plt.tight_layout()"
   ]
  },
  {
   "cell_type": "markdown",
   "id": "a5fc3d6f",
   "metadata": {},
   "source": [
    "### 3.4 Heatmap showing the correlation of the data"
   ]
  },
  {
   "cell_type": "code",
   "execution_count": null,
   "id": "668ff630",
   "metadata": {},
   "outputs": [],
   "source": [
    "plt.figure(figsize = (15,10))\n",
    "sns.heatmap(weather.select_dtypes(include = ['int', 'float']).corr(), annot=True, center= 0)\n",
    "plt.show()"
   ]
  },
  {
   "cell_type": "markdown",
   "id": "2fde8ef4",
   "metadata": {},
   "source": [
    "### 3.5 Analysis using Pivot Tables (JS)"
   ]
  },
  {
   "cell_type": "code",
   "execution_count": null,
   "id": "4fb7eb6c",
   "metadata": {
    "scrolled": true
   },
   "outputs": [],
   "source": [
    "from pivottablejs import pivot_ui\n",
    "pivot_ui(weather)"
   ]
  },
  {
   "cell_type": "markdown",
   "id": "f8021a8d",
   "metadata": {},
   "source": [
    "### 3.6 Line plot data visualization"
   ]
  },
  {
   "cell_type": "markdown",
   "id": "c0d777fa",
   "metadata": {},
   "source": [
    "### 3.6.1 Renaming the columns"
   ]
  },
  {
   "cell_type": "code",
   "execution_count": null,
   "id": "1a988b61",
   "metadata": {},
   "outputs": [],
   "source": [
    "weather = weather[[\"tmax_C\",\"tmin_C\",\"rain_mm\",\"hum%_9AM\",\"hum%_3PM\",\"windsp_9AM\",\"windsp_3PM\",\"winddir_3PM\"]].copy()\n",
    "weather.columns = [\"Temp_max\",\"Temp_min\",\"Rainfall\",\"Humid_9AM\",\"Humid_3PM\",\"Wind_9AM\",\"Wind_3PM\",\"Wind_direction\"]\n",
    "weather"
   ]
  },
  {
   "cell_type": "markdown",
   "id": "0632622f",
   "metadata": {},
   "source": [
    "### 3.6.2 Temperature plot"
   ]
  },
  {
   "cell_type": "code",
   "execution_count": null,
   "id": "2f48226f",
   "metadata": {},
   "outputs": [],
   "source": [
    "weather[[\"Temp_max\",\"Temp_min\"]].plot(figsize=(15,6), title='Temperature')\n",
    "plt.show()"
   ]
  },
  {
   "cell_type": "markdown",
   "id": "04544a26",
   "metadata": {},
   "source": [
    "### 3.6.3 Rainfall plot"
   ]
  },
  {
   "cell_type": "code",
   "execution_count": null,
   "id": "f3226c34",
   "metadata": {
    "scrolled": true
   },
   "outputs": [],
   "source": [
    "weather[[\"Rainfall\"]].plot(figsize=(15, 6), title='Rainfall')\n",
    "plt.show()"
   ]
  },
  {
   "cell_type": "markdown",
   "id": "71716b8d",
   "metadata": {},
   "source": [
    "### 3.6.3.1 Normalizing the data\n",
    "- This is essential incase the dataset doesn't follow a timeseries pattern or being more of bar plot. This function can help in normalizing thedata to follow a time series. But for this particular senario it's not important"
   ]
  },
  {
   "cell_type": "code",
   "execution_count": null,
   "id": "b2835fbb",
   "metadata": {
    "scrolled": true
   },
   "outputs": [],
   "source": [
    "# weather['Rainfall'] = np.log(weather['Rainfall'])\n",
    "# weather"
   ]
  },
  {
   "cell_type": "code",
   "execution_count": null,
   "id": "1299b6e7",
   "metadata": {},
   "outputs": [],
   "source": [
    "# weather['Rainfall'].plot(figsize = (20,6))"
   ]
  },
  {
   "cell_type": "code",
   "execution_count": null,
   "id": "412cefae",
   "metadata": {},
   "outputs": [],
   "source": [
    "weather.groupby(weather.index.month).sum()[\"Rainfall\"]"
   ]
  },
  {
   "cell_type": "markdown",
   "id": "335583b5",
   "metadata": {},
   "source": [
    "### 3.6.4 Wind speed plot"
   ]
  },
  {
   "cell_type": "code",
   "execution_count": null,
   "id": "8a62c12b",
   "metadata": {},
   "outputs": [],
   "source": [
    "weather[[\"Wind_9AM\",\"Wind_3PM\"]].plot(figsize = (15,6), title = 'Wind Speed')\n",
    "plt.show()"
   ]
  },
  {
   "cell_type": "markdown",
   "id": "ca94062b",
   "metadata": {},
   "source": [
    "### 3.6.4.1 Filtering and cleaning the outliner in the data (Wind_9Am = -3)"
   ]
  },
  {
   "cell_type": "code",
   "execution_count": null,
   "id": "5ad883ee",
   "metadata": {},
   "outputs": [],
   "source": [
    "weather.loc[\"2019-09-01\":\"2019-09-15\",:]"
   ]
  },
  {
   "cell_type": "code",
   "execution_count": null,
   "id": "62c0c02b",
   "metadata": {
    "scrolled": true
   },
   "outputs": [],
   "source": [
    "weather.query('Wind_9AM < 0')['Wind_9AM'] \\\n",
    "    .plot(style = '.', figsize=(15, 5), title='Wind Speed Outliers')"
   ]
  },
  {
   "cell_type": "markdown",
   "id": "a7346245",
   "metadata": {},
   "source": [
    "- Distribution check showing the outlier -3"
   ]
  },
  {
   "cell_type": "code",
   "execution_count": null,
   "id": "77d6b489",
   "metadata": {},
   "outputs": [],
   "source": [
    "plt.rcParams['axes.facecolor'] = 'white'\n",
    "sns.countplot(x='Wind_9AM', data=weather)"
   ]
  },
  {
   "cell_type": "markdown",
   "id": "0747e8bd",
   "metadata": {},
   "source": [
    "### 3.6.4.2 Replacing the value with +3\n",
    "- I chose +3 because, looking at the data in column closely, I noticed from 13/09/2019 - 15/09/2019, the pattern seems to be repeating with that from 16/09/2019 - 18/09/2019. So This might have been a mistake."
   ]
  },
  {
   "cell_type": "code",
   "execution_count": null,
   "id": "96bf192f",
   "metadata": {},
   "outputs": [],
   "source": [
    "weather['Wind_9AM'].loc['2019-09-11'] = 3\n"
   ]
  },
  {
   "cell_type": "code",
   "execution_count": null,
   "id": "ee269ca3",
   "metadata": {},
   "outputs": [],
   "source": [
    "weather.query('Wind_9AM < 0')['Wind_9AM'] \\\n",
    "    .plot(style = '.', figsize=(15, 5), title='Wind Speed Outliers')"
   ]
  },
  {
   "cell_type": "code",
   "execution_count": null,
   "id": "6455346a",
   "metadata": {},
   "outputs": [],
   "source": [
    "weather[[\"Wind_9AM\",\"Wind_3PM\"]].plot(figsize = (15,6), title = 'Wind Speed')\n",
    "plt.show()"
   ]
  },
  {
   "cell_type": "code",
   "execution_count": null,
   "id": "1c2a3137",
   "metadata": {},
   "outputs": [],
   "source": [
    "weather.loc[\"2019-09-05\":\"2019-09-15\",:]"
   ]
  },
  {
   "cell_type": "code",
   "execution_count": null,
   "id": "b96533f8",
   "metadata": {},
   "outputs": [],
   "source": [
    "plt.rcParams['axes.facecolor'] = 'white'\n",
    "sns.countplot(x='Wind_9AM', data=weather)"
   ]
  },
  {
   "cell_type": "code",
   "execution_count": null,
   "id": "2b0313d0",
   "metadata": {},
   "outputs": [],
   "source": []
  },
  {
   "cell_type": "markdown",
   "id": "1085b831",
   "metadata": {},
   "source": [
    "### 3.6.5 Humidity plot"
   ]
  },
  {
   "cell_type": "code",
   "execution_count": null,
   "id": "26aa17f0",
   "metadata": {},
   "outputs": [],
   "source": [
    "weather[['Humid_9AM', 'Humid_3PM']].plot(figsize = (15,6), title = 'Humidity')"
   ]
  },
  {
   "cell_type": "markdown",
   "id": "1af2be9f",
   "metadata": {},
   "source": [
    "### 3.6.6 Wind direction plot"
   ]
  },
  {
   "cell_type": "code",
   "execution_count": null,
   "id": "0d0ab5d6",
   "metadata": {
    "scrolled": true
   },
   "outputs": [],
   "source": [
    "weather[['Wind_direction']].plot(figsize = (15,6), title = 'Wind Direction')"
   ]
  },
  {
   "cell_type": "code",
   "execution_count": null,
   "id": "fa9491df",
   "metadata": {},
   "outputs": [],
   "source": [
    "# weatherdf = pd.get_dummies(weather)"
   ]
  },
  {
   "cell_type": "markdown",
   "id": "3c74f80c",
   "metadata": {},
   "source": [
    "## 4.0 Modelling"
   ]
  },
  {
   "cell_type": "markdown",
   "id": "54777db1",
   "metadata": {},
   "source": [
    "### 4.1 Import Dependencies"
   ]
  },
  {
   "cell_type": "code",
   "execution_count": null,
   "id": "7ec57faa",
   "metadata": {},
   "outputs": [],
   "source": [
    "X = weather.drop('Temp_max', axis=1)\n",
    "y = weather['Temp_max']"
   ]
  },
  {
   "cell_type": "code",
   "execution_count": null,
   "id": "92031b6b",
   "metadata": {},
   "outputs": [],
   "source": [
    "from sklearn.model_selection import train_test_split"
   ]
  },
  {
   "cell_type": "code",
   "execution_count": null,
   "id": "e65807e8",
   "metadata": {},
   "outputs": [],
   "source": [
    "X_train, X_test, y_train, y_test = train_test_split(X,y, test_size=0.2, random_state=1234)"
   ]
  },
  {
   "cell_type": "code",
   "execution_count": null,
   "id": "af5e9650",
   "metadata": {},
   "outputs": [],
   "source": [
    "print(X_train.shape, X_test.shape, y_train.shape, y_test.shape)"
   ]
  },
  {
   "cell_type": "markdown",
   "id": "6d3e1e02",
   "metadata": {},
   "source": [
    "### 4.2 Dependent Algorithms"
   ]
  },
  {
   "cell_type": "code",
   "execution_count": null,
   "id": "b9e4e73d",
   "metadata": {},
   "outputs": [],
   "source": [
    "from sklearn.pipeline import make_pipeline\n",
    "from sklearn.linear_model import Ridge, Lasso, ElasticNet\n",
    "from sklearn.ensemble import RandomForestRegressor, GradientBoostingRegressor"
   ]
  },
  {
   "cell_type": "markdown",
   "id": "e29c2adb",
   "metadata": {},
   "source": [
    "### 4.3 Preparing the pipeline for tuning models"
   ]
  },
  {
   "cell_type": "code",
   "execution_count": null,
   "id": "a538f9a0",
   "metadata": {},
   "outputs": [],
   "source": [
    "pipelines = {\n",
    "    'rf':make_pipeline(RandomForestRegressor(random_state=1234)),\n",
    "    'gb':make_pipeline(GradientBoostingRegressor(random_state=1234)),\n",
    "    'ridge':make_pipeline(Ridge(random_state=1234)),\n",
    "    'lasso':make_pipeline(Lasso(random_state=1234)),\n",
    "    'enet':make_pipeline(ElasticNet(random_state=1234)),\n",
    "}"
   ]
  },
  {
   "cell_type": "markdown",
   "id": "e65ff4bb",
   "metadata": {},
   "source": [
    "### 4.4 Hyperparameter tuning using Grid-Search-Cross-Validation"
   ]
  },
  {
   "cell_type": "code",
   "execution_count": null,
   "id": "d0b20d0e",
   "metadata": {},
   "outputs": [],
   "source": [
    "RandomForestRegressor().get_params()"
   ]
  },
  {
   "cell_type": "code",
   "execution_count": null,
   "id": "707d202e",
   "metadata": {},
   "outputs": [],
   "source": [
    "hypergrid = {\n",
    "    'rf': {\n",
    "        'randomforestregressor__min_samples_split':[2,4,6],\n",
    "        'randomforestregressor__min_samples_leaf':[1,2,3]\n",
    "    },\n",
    "    'gb':{\n",
    "        'gradientboostingregressor__alpha':[0.001, 0.005, 0.01, 0.05, 0.1, 0.5, 0.99]\n",
    "    },\n",
    "    'ridge':{\n",
    "        'ridge__alpha':[0.001, 0.005, 0.01, 0.05, 0.1, 0.5, 0.99]\n",
    "    },\n",
    "    'lasso':{\n",
    "        'lasso__alpha':[0.001, 0.005, 0.01, 0.05, 0.1, 0.5, 0.99]\n",
    "    },\n",
    "    'enet':{\n",
    "        'elasticnet__alpha':[0.001, 0.005, 0.01, 0.05, 0.1, 0.5, 0.99]\n",
    "    }\n",
    "}"
   ]
  },
  {
   "cell_type": "code",
   "execution_count": null,
   "id": "a5803cc1",
   "metadata": {},
   "outputs": [],
   "source": [
    "from sklearn.model_selection import GridSearchCV\n",
    "from sklearn.exceptions import NotFittedError"
   ]
  },
  {
   "cell_type": "code",
   "execution_count": null,
   "id": "08ae081e",
   "metadata": {},
   "outputs": [],
   "source": [
    "fit_models = {}\n",
    "for algo, pipeline in pipelines.items():\n",
    "    model = GridSearchCV(pipeline, hypergrid[algo], cv=10, n_jobs=-1)\n",
    "    try:\n",
    "        print('Starting training for {}.'.format(algo))\n",
    "        model.fit(X_train, y_train)\n",
    "        fit_models[algo] = model\n",
    "        print('{} has been successfully fit.'.format(algo))\n",
    "    except NotFittedError as e:\n",
    "        print(repr(e))"
   ]
  },
  {
   "cell_type": "code",
   "execution_count": null,
   "id": "6f37f75e",
   "metadata": {},
   "outputs": [],
   "source": [
    "# fit_models['ridge'].predict(X_test)"
   ]
  },
  {
   "cell_type": "markdown",
   "id": "958b2102",
   "metadata": {},
   "source": [
    "## 5.0 Evaluation and Choosing BestFit model"
   ]
  },
  {
   "cell_type": "code",
   "execution_count": null,
   "id": "8a04fd40",
   "metadata": {},
   "outputs": [],
   "source": [
    "from sklearn.metrics import r2_score, mean_absolute_error"
   ]
  },
  {
   "cell_type": "code",
   "execution_count": null,
   "id": "83349630",
   "metadata": {},
   "outputs": [],
   "source": [
    "for algo,model in fit_models.items():\n",
    "    yhat = model.predict(X_test)\n",
    "    print('{} scores - R2: {}  MAE: {}'.format(algo, r2_score(y_test, yhat), mean_absolute_error(y_test, yhat)))"
   ]
  },
  {
   "cell_type": "markdown",
   "id": "9c0a3135",
   "metadata": {},
   "source": [
    "#### Best fit model is Gradient Boosting Regressor because;\n",
    "- It has the least mean absolute error (MAE) value - 0.90\n",
    "- Highest accuracy (R2 - value) - 71.5%"
   ]
  },
  {
   "cell_type": "code",
   "execution_count": null,
   "id": "6fadb79f",
   "metadata": {},
   "outputs": [],
   "source": [
    "best_model = fit_models['gb']\n",
    "best_model"
   ]
  },
  {
   "cell_type": "markdown",
   "id": "ecf17608",
   "metadata": {},
   "source": [
    "## 6.0 Forcasting Predictions"
   ]
  },
  {
   "cell_type": "code",
   "execution_count": null,
   "id": "585596c8",
   "metadata": {},
   "outputs": [],
   "source": [
    "yhat = fit_models['gb'].predict(X_test)\n",
    "yhat"
   ]
  },
  {
   "cell_type": "code",
   "execution_count": null,
   "id": "59ac79b7",
   "metadata": {},
   "outputs": [],
   "source": [
    "type(yhat)"
   ]
  },
  {
   "cell_type": "code",
   "execution_count": null,
   "id": "f098d0ef",
   "metadata": {},
   "outputs": [],
   "source": [
    "predictions = pd.DataFrame(yhat, columns = ['Temp_pred'])\n",
    "\n",
    "predictions.tail(5)"
   ]
  },
  {
   "cell_type": "code",
   "execution_count": null,
   "id": "59c2d7db",
   "metadata": {},
   "outputs": [],
   "source": [
    "y_test.tail(5)"
   ]
  },
  {
   "cell_type": "code",
   "execution_count": null,
   "id": "3f6e61c8",
   "metadata": {},
   "outputs": [],
   "source": [
    "type(y_test)"
   ]
  },
  {
   "cell_type": "code",
   "execution_count": null,
   "id": "93acc1e4",
   "metadata": {},
   "outputs": [],
   "source": [
    "type(predictions)"
   ]
  },
  {
   "cell_type": "code",
   "execution_count": null,
   "id": "b76f7cad",
   "metadata": {},
   "outputs": [],
   "source": [
    "y_test = pd.DataFrame(y_test, columns = ['Temp_max'])\n",
    "y_test\n",
    "type(y_test)"
   ]
  },
  {
   "cell_type": "markdown",
   "id": "23b7cfc7",
   "metadata": {},
   "source": [
    "## 7.0 Saving, Deleting and Loading the BestFitModel"
   ]
  },
  {
   "cell_type": "code",
   "execution_count": null,
   "id": "42d97b8f",
   "metadata": {},
   "outputs": [],
   "source": [
    "import pickle\n",
    "with open('BestFit_model.pkl', \"wb\") as f:\n",
    "    pickle.dump(best_model, f)"
   ]
  },
  {
   "cell_type": "code",
   "execution_count": null,
   "id": "a6fa35d6",
   "metadata": {},
   "outputs": [],
   "source": [
    "del best_model"
   ]
  },
  {
   "cell_type": "code",
   "execution_count": null,
   "id": "a8be27f9",
   "metadata": {},
   "outputs": [],
   "source": [
    "with open('BestFit_model.pkl', \"rb\") as f:\n",
    "    best_model = pickle.load(f)"
   ]
  },
  {
   "cell_type": "code",
   "execution_count": null,
   "id": "76aae84e",
   "metadata": {},
   "outputs": [],
   "source": []
  }
 ],
 "metadata": {
  "kernelspec": {
   "display_name": "Python 3 (ipykernel)",
   "language": "python",
   "name": "python3"
  },
  "language_info": {
   "codemirror_mode": {
    "name": "ipython",
    "version": 3
   },
   "file_extension": ".py",
   "mimetype": "text/x-python",
   "name": "python",
   "nbconvert_exporter": "python",
   "pygments_lexer": "ipython3",
   "version": "3.9.12"
  }
 },
 "nbformat": 4,
 "nbformat_minor": 5
}
